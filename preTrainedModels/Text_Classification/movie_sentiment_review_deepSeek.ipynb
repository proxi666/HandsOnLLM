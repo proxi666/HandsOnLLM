{
 "cells": [
  {
   "cell_type": "markdown",
   "id": "a65ef71f",
   "metadata": {},
   "source": [
    "# Using DeepSeek API"
   ]
  },
  {
   "cell_type": "code",
   "execution_count": null,
   "id": "c81962a3",
   "metadata": {},
   "outputs": [],
   "source": [
    "from datasets import load_dataset\n",
    "\n",
    "# Load the data\n",
    "data = load_dataset(\"rotten_tomatoes\")\n",
    "data"
   ]
  },
  {
   "cell_type": "code",
   "execution_count": 18,
   "id": "48f75d12",
   "metadata": {},
   "outputs": [],
   "source": [
    "import os\n",
    "from dotenv import load_dotenv\n",
    "from openai import OpenAI\n",
    "\n",
    "# Load .env file and get the API key\n",
    "load_dotenv()\n",
    "api_key = os.getenv(\"DEEPSEEK_API_KEY\")\n",
    "\n",
    "# Setup the client with DeepSeek API base\n",
    "client = OpenAI(\n",
    "    api_key=api_key,\n",
    "    base_url=\"https://api.deepseek.com/v1\"  # important!\n",
    ")"
   ]
  },
  {
   "cell_type": "code",
   "execution_count": 19,
   "id": "259273b7",
   "metadata": {},
   "outputs": [],
   "source": [
    "# Updated function using new v1 format\n",
    "def chatgpt_generation(prompt, document, model=\"deepseek-chat\"):\n",
    "    \"\"\"Generate an output based on a prompt and an input document.\"\"\"\n",
    "    messages = [\n",
    "        {\"role\": \"system\", \"content\": \"You are a helpful assistant.\"},\n",
    "        {\"role\": \"user\", \"content\": prompt.replace(\"[DOCUMENT]\", document)}\n",
    "    ]\n",
    "\n",
    "    response = client.chat.completions.create(\n",
    "        model=model,\n",
    "        messages=messages,\n",
    "        temperature=0\n",
    "    )\n",
    "\n",
    "    return response.choices[0].message.content"
   ]
  },
  {
   "cell_type": "code",
   "execution_count": 20,
   "id": "41341859",
   "metadata": {},
   "outputs": [
    {
     "name": "stdout",
     "output_type": "stream",
     "text": [
      "Classification result: 1\n"
     ]
    }
   ],
   "source": [
    "# Define the classification prompt\n",
    "prompt = \"\"\"Predict whether the following document is a positive or negative\n",
    "movie review:\n",
    "\n",
    "[DOCUMENT]\n",
    "\n",
    "If it is positive return 1 and if it is negative return 0. Do not give any\n",
    "other answers.\n",
    "\"\"\"\n",
    "\n",
    "# Input document\n",
    "document = \"unpretentious , charming , quirky , original\"\n",
    "\n",
    "# Call the function\n",
    "result = chatgpt_generation(prompt, document)\n",
    "\n",
    "print(\"Classification result:\", result)  # Should return 1 (positive)"
   ]
  },
  {
   "cell_type": "code",
   "execution_count": null,
   "id": "acbbadf0",
   "metadata": {},
   "outputs": [
    {
     "name": "stderr",
     "output_type": "stream",
     "text": [
      "100%|██████████| 8530/8530 [9:14:16<00:00,  3.90s/it]     \n"
     ]
    }
   ],
   "source": [
    "# pass the movie review to the function\n",
    "import numpy as np\n",
    "from tqdm import tqdm\n",
    "    \n",
    "predictions = [chatgpt_generation(prompt,doc) for doc in tqdm(data['train']['text'])]"
   ]
  },
  {
   "cell_type": "code",
   "execution_count": null,
   "id": "6b075ce8",
   "metadata": {},
   "outputs": [],
   "source": []
  },
  {
   "cell_type": "code",
   "execution_count": 25,
   "id": "39332976",
   "metadata": {},
   "outputs": [],
   "source": [
    "from sklearn.metrics import classification_report\n",
    "\n",
    "def evaluate_performance(y_true, y_pred):\n",
    "    performance = classification_report(\n",
    "        y_true, y_pred,\n",
    "        target_names=[\"Negative Review\", \"Positive Review\"]\n",
    "    )\n",
    "    print(performance)\n"
   ]
  },
  {
   "cell_type": "code",
   "execution_count": 26,
   "id": "37234d11",
   "metadata": {},
   "outputs": [
    {
     "name": "stdout",
     "output_type": "stream",
     "text": [
      "                 precision    recall  f1-score   support\n",
      "\n",
      "Negative Review       0.89      0.95      0.92      4265\n",
      "Positive Review       0.95      0.89      0.92      4265\n",
      "\n",
      "       accuracy                           0.92      8530\n",
      "      macro avg       0.92      0.92      0.92      8530\n",
      "   weighted avg       0.92      0.92      0.92      8530\n",
      "\n"
     ]
    }
   ],
   "source": [
    "y_pred = [int(pred.strip()) for pred in predictions]  # Convert to integers if needed\n",
    "y_true = data['train']['label']  # Make sure you're comparing train with train\n",
    "\n",
    "evaluate_performance(y_true, y_pred)\n"
   ]
  },
  {
   "cell_type": "code",
   "execution_count": null,
   "id": "435b1b27",
   "metadata": {},
   "outputs": [],
   "source": []
  }
 ],
 "metadata": {
  "kernelspec": {
   "display_name": "pytorch_env",
   "language": "python",
   "name": "python3"
  },
  "language_info": {
   "codemirror_mode": {
    "name": "ipython",
    "version": 3
   },
   "file_extension": ".py",
   "mimetype": "text/x-python",
   "name": "python",
   "nbconvert_exporter": "python",
   "pygments_lexer": "ipython3",
   "version": "3.10.16"
  }
 },
 "nbformat": 4,
 "nbformat_minor": 5
}
