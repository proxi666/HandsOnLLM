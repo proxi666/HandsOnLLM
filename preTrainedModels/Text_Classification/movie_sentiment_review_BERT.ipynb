{
 "cells": [
  {
   "cell_type": "markdown",
   "metadata": {},
   "source": [
    "# Using a Task-Specific Model\n",
    "##### cardiffnlp/twitter-roberta-base-sentiment-latest\n",
    "\n",
    "\n",
    "Task-specific models in Large Language Models (LLMs) are specialized versions of general-purpose LLMs that are optimized to perform particular tasks or function within specific domains with higher accuracy and efficiency. Unlike general-purpose LLMs that are designed to handle a wide range of language tasks, task-specific models are fine-tuned or trained to excel in narrowly defined applications."
   ]
  },
  {
   "cell_type": "code",
   "execution_count": 1,
   "metadata": {},
   "outputs": [
    {
     "name": "stderr",
     "output_type": "stream",
     "text": [
      "/home/proxi/.local/lib/python3.10/site-packages/tqdm/auto.py:21: TqdmWarning: IProgress not found. Please update jupyter and ipywidgets. See https://ipywidgets.readthedocs.io/en/stable/user_install.html\n",
      "  from .autonotebook import tqdm as notebook_tqdm\n"
     ]
    }
   ],
   "source": [
    "from datasets import load_dataset"
   ]
  },
  {
   "cell_type": "code",
   "execution_count": null,
   "metadata": {},
   "outputs": [
    {
     "ename": "NameError",
     "evalue": "name 'load_dataset' is not defined",
     "output_type": "error",
     "traceback": [
      "\u001b[0;31m---------------------------------------------------------------------------\u001b[0m",
      "\u001b[0;31mNameError\u001b[0m                                 Traceback (most recent call last)",
      "Cell \u001b[0;32mIn[1], line 2\u001b[0m\n\u001b[1;32m      1\u001b[0m \u001b[38;5;66;03m# Load the data\u001b[39;00m\n\u001b[0;32m----> 2\u001b[0m data \u001b[38;5;241m=\u001b[39m \u001b[43mload_dataset\u001b[49m(\u001b[38;5;124m\"\u001b[39m\u001b[38;5;124mrotten_tomatoes\u001b[39m\u001b[38;5;124m\"\u001b[39m)\n\u001b[1;32m      3\u001b[0m data\n\u001b[1;32m      5\u001b[0m \u001b[38;5;66;03m# we will use the train split when we train a model and the test split for validating\u001b[39;00m\n\u001b[1;32m      6\u001b[0m \u001b[38;5;66;03m# the results.\u001b[39;00m\n\u001b[1;32m      7\u001b[0m \n\u001b[1;32m      8\u001b[0m \u001b[38;5;66;03m# additional validation split can be used to further validate\u001b[39;00m\n\u001b[1;32m      9\u001b[0m \u001b[38;5;66;03m# generalization if you used the train and test splits to perform hyperparameter tuning.\u001b[39;00m\n",
      "\u001b[0;31mNameError\u001b[0m: name 'load_dataset' is not defined"
     ]
    }
   ],
   "source": [
    "# Load the dataset\n",
    "data = load_dataset(\"rotten_tomatoes\")\n",
    "data\n",
    "\n",
    "# we will use the train split when we train a model and the test split for validating\n",
    "# the results.\n",
    "\n",
    "# additional validation split can be used to further validate\n",
    "# generalization if you used the train and test splits to perform hyperparameter tuning."
   ]
  },
  {
   "cell_type": "code",
   "execution_count": 3,
   "metadata": {},
   "outputs": [
    {
     "data": {
      "text/plain": [
       "{'text': ['the rock is destined to be the 21st century\\'s new \" conan \" and that he\\'s going to make a splash even greater than arnold schwarzenegger , jean-claud van damme or steven segal .',\n",
       "  'things really get weird , though not particularly scary : the movie is all portent and no content .'],\n",
       " 'label': [1, 0]}"
      ]
     },
     "execution_count": 3,
     "metadata": {},
     "output_type": "execute_result"
    }
   ],
   "source": [
    "data[\"train\"][0, -1]"
   ]
  },
  {
   "cell_type": "code",
   "execution_count": 4,
   "metadata": {},
   "outputs": [],
   "source": [
    "# we are choosing the Twitter-RoBERTa-base for Sentiment Analysis model\n",
    "# fine-tuned on tweets for sentiment analysis \n"
   ]
  },
  {
   "cell_type": "code",
   "execution_count": 5,
   "metadata": {},
   "outputs": [
    {
     "name": "stdout",
     "output_type": "stream",
     "text": [
      "CUDA available: True\n",
      "CUDA device name: NVIDIA GeForce RTX 3070 Laptop GPU\n",
      "CUDA device count: 1\n"
     ]
    }
   ],
   "source": [
    "import torch\n",
    "\n",
    "# Check if CUDA is available\n",
    "print(\"CUDA available:\", torch.cuda.is_available())\n",
    "\n",
    "# If CUDA is available, print additional info\n",
    "if torch.cuda.is_available():\n",
    "    print(\"CUDA device name:\", torch.cuda.get_device_name(0))\n",
    "    print(\"CUDA device count:\", torch.cuda.device_count())"
   ]
  },
  {
   "cell_type": "code",
   "execution_count": 6,
   "metadata": {},
   "outputs": [
    {
     "name": "stderr",
     "output_type": "stream",
     "text": [
      "Some weights of the model checkpoint at cardiffnlp/twitter-roberta-base-sentiment-latest were not used when initializing RobertaForSequenceClassification: ['roberta.pooler.dense.bias', 'roberta.pooler.dense.weight']\n",
      "- This IS expected if you are initializing RobertaForSequenceClassification from the checkpoint of a model trained on another task or with another architecture (e.g. initializing a BertForSequenceClassification model from a BertForPreTraining model).\n",
      "- This IS NOT expected if you are initializing RobertaForSequenceClassification from the checkpoint of a model that you expect to be exactly identical (initializing a BertForSequenceClassification model from a BertForSequenceClassification model).\n",
      "Device set to use cuda:0\n",
      "/home/proxi/anaconda3/envs/pytorch_env/lib/python3.10/site-packages/transformers/pipelines/text_classification.py:106: UserWarning: `return_all_scores` is now deprecated,  if want a similar functionality use `top_k=None` instead of `return_all_scores=True` or `top_k=1` instead of `return_all_scores=False`.\n",
      "  warnings.warn(\n"
     ]
    }
   ],
   "source": [
    "from transformers import pipeline\n",
    "\n",
    "# Path to the HF model\n",
    "model_path = \"cardiffnlp/twitter-roberta-base-sentiment-latest\"\n",
    "\n",
    "# Load model into pipeline\n",
    "pipe = pipeline(\n",
    "    model = model_path,\n",
    "    tokenizer = model_path,\n",
    "    return_all_scores = True,\n",
    "    device=\"cuda:0\"\n",
    ")"
   ]
  },
  {
   "cell_type": "code",
   "execution_count": 9,
   "metadata": {},
   "outputs": [
    {
     "name": "stderr",
     "output_type": "stream",
     "text": [
      "100%|██████████| 1066/1066 [00:07<00:00, 138.28it/s]\n"
     ]
    }
   ],
   "source": [
    "import numpy as np  # Numerical computing library for array operations\n",
    "from tqdm import tqdm  # Progress bar library for visualizing iteration progress\n",
    "from transformers.pipelines.pt_utils import KeyDataset  # Helper class for dataset handling in Hugging Face pipelines\n",
    "\n",
    "y_pred = []  # Initialize empty list to store prediction results\n",
    "for output in tqdm(pipe(KeyDataset(data[\"test\"], \"text\")), total=len(data[\"test\"])):  # Process test data with progress bar\n",
    "    negative_score = output[0][\"score\"]  # Get negative sentiment score (first output position)\n",
    "    positive_score = output[2][\"score\"]  # Get positive sentiment score (third output position)\n",
    "    assignment = np.argmax([negative_score, positive_score])  # Choose class with highest score (0=negative, 1=positive)\n",
    "    y_pred.append(assignment)"
   ]
  },
  {
   "cell_type": "code",
   "execution_count": 11,
   "metadata": {},
   "outputs": [],
   "source": [
    "from sklearn.metrics import classification_report  # Import performance metrics module\n",
    "\n",
    "def evaluate_performance(y_true, y_pred):  # Define evaluation function taking true labels and predictions\n",
    "    performance = classification_report(  # Generate classification report\n",
    "        y_true, y_pred,  # Compare ground truth vs predicted labels\n",
    "        target_names=[\"Negative Revi    ew\", \"Positive Review\"]  # Label classes for readable output\n",
    "    )\n",
    "    print(performance)  # Print precision, recall, f1-score metrics\n"
   ]
  },
  {
   "cell_type": "code",
   "execution_count": 12,
   "metadata": {},
   "outputs": [
    {
     "name": "stdout",
     "output_type": "stream",
     "text": [
      "                     precision    recall  f1-score   support\n",
      "\n",
      "Negative Revi    ew       0.76      0.88      0.81       533\n",
      "    Positive Review       0.86      0.72      0.78       533\n",
      "\n",
      "           accuracy                           0.80      1066\n",
      "          macro avg       0.81      0.80      0.80      1066\n",
      "       weighted avg       0.81      0.80      0.80      1066\n",
      "\n"
     ]
    }
   ],
   "source": [
    "evaluate_performance(data[\"test\"][\"label\"], y_pred)  # ← This should be at module level"
   ]
  },
  {
   "cell_type": "code",
   "execution_count": null,
   "metadata": {},
   "outputs": [],
   "source": []
  }
 ],
 "metadata": {
  "kernelspec": {
   "display_name": "pytorch_env",
   "language": "python",
   "name": "python3"
  },
  "language_info": {
   "codemirror_mode": {
    "name": "ipython",
    "version": 3
   },
   "file_extension": ".py",
   "mimetype": "text/x-python",
   "name": "python",
   "nbconvert_exporter": "python",
   "pygments_lexer": "ipython3",
   "version": "3.10.16"
  }
 },
 "nbformat": 4,
 "nbformat_minor": 2
}
